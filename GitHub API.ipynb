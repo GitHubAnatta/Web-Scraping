{
 "cells": [
  {
   "cell_type": "markdown",
   "metadata": {},
   "source": [
    "Read this: http://stackoverflow.com/questions/671118/what-exactly-is-restful-programming"
   ]
  },
  {
   "cell_type": "code",
   "execution_count": 9,
   "metadata": {
    "collapsed": true
   },
   "outputs": [],
   "source": [
    "import requests\n",
    "import json"
   ]
  },
  {
   "cell_type": "code",
   "execution_count": 10,
   "metadata": {
    "collapsed": false
   },
   "outputs": [
    {
     "name": "stdout",
     "output_type": "stream",
     "text": [
      "https://jobs.github.com/positions.json?description=python&location=sf\n"
     ]
    }
   ],
   "source": [
    "keyword = \"python\"\n",
    "location = \"sf\"\n",
    "\n",
    "link = \"https://jobs.github.com/positions.json?description=\" + keyword + \"&location=\" + location\n",
    "\n",
    "print(link)"
   ]
  },
  {
   "cell_type": "code",
   "execution_count": null,
   "metadata": {
    "collapsed": false
   },
   "outputs": [],
   "source": [
    "r = requests.get(link)\n",
    "#print(r.text)"
   ]
  },
  {
   "cell_type": "code",
   "execution_count": 17,
   "metadata": {
    "collapsed": false
   },
   "outputs": [
    {
     "name": "stdout",
     "output_type": "stream",
     "text": [
      "Siri Hadoop Operations Engineer - 39893138\n"
     ]
    }
   ],
   "source": [
    "jobs = json.loads(r.text)\n",
    "print(jobs[0]['title'])"
   ]
  },
  {
   "cell_type": "code",
   "execution_count": 19,
   "metadata": {
    "collapsed": false
   },
   "outputs": [
    {
     "data": {
      "text/plain": [
       "dict_keys(['how_to_apply', 'id', 'company_url', 'type', 'company', 'location', 'title', 'created_at', 'url', 'company_logo', 'description'])"
      ]
     },
     "execution_count": 19,
     "metadata": {},
     "output_type": "execute_result"
    }
   ],
   "source": [
    "jobs[0].keys()"
   ]
  },
  {
   "cell_type": "code",
   "execution_count": 20,
   "metadata": {
    "collapsed": false
   },
   "outputs": [
    {
     "name": "stdout",
     "output_type": "stream",
     "text": [
      "Siri Hadoop Operations Engineer - 39893138 http://jobs.github.com/positions/3ec1afb2-be1b-11e5-88be-33231d172737\n",
      "Siri Server Quality Engineer - 44159510 http://jobs.github.com/positions/f426e094-be1a-11e5-8ac2-b35bed6549f3\n",
      "Senior Siri Development Operations Engineer - 42148024 http://jobs.github.com/positions/ab56c140-be1a-11e5-86d6-8fab503c19cf\n",
      "Software Test Engineer/SDET - Maps Tiles - 44823206 http://jobs.github.com/positions/d62482f6-be18-11e5-8e35-a4aef84297ff\n",
      "Software Engineer http://jobs.github.com/positions/b461b6a8-be17-11e5-9ec4-6ba8467a1e93\n",
      "Senior Software Engineer (Core) http://jobs.github.com/positions/b6179c0a-9ebf-11e5-8ada-ae3e62465b64\n",
      " Principal Engineer / Architect - San Francisco  http://jobs.github.com/positions/bc4a5fba-b94d-11e5-8617-9838ce8c6cc2\n",
      "Front End Engineer - Maps - 43288758 http://jobs.github.com/positions/07ccc1f2-b8a0-11e5-9ff8-386b0793d5db\n",
      "Software Engineer, File Systems http://jobs.github.com/positions/ace7d67a-b587-11e5-9bc6-f8dc1550d798\n",
      "Sr. iOS Engineer http://jobs.github.com/positions/98b12b76-b333-11e5-80c7-802b26978bd8\n",
      "Sr Backend Engineer http://jobs.github.com/positions/d6a0fa1c-b331-11e5-8033-cee9233e3990\n"
     ]
    }
   ],
   "source": [
    "for job in jobs:\n",
    "    print(job['title'], job['url'])"
   ]
  },
  {
   "cell_type": "code",
   "execution_count": 21,
   "metadata": {
    "collapsed": false
   },
   "outputs": [
    {
     "name": "stdout",
     "output_type": "stream",
     "text": [
      "Front End Engineer - Maps - 43288758 http://jobs.github.com/positions/07ccc1f2-b8a0-11e5-9ff8-386b0793d5db\n"
     ]
    }
   ],
   "source": [
    "for job in jobs:\n",
    "    if \"Front End\" in job['title']:\n",
    "        print(job['title'], job['url'])"
   ]
  },
  {
   "cell_type": "code",
   "execution_count": 22,
   "metadata": {
    "collapsed": false
   },
   "outputs": [
    {
     "name": "stdout",
     "output_type": "stream",
     "text": [
      "Siri Hadoop Operations Engineer - 39893138\n",
      "Siri Server Quality Engineer - 44159510\n",
      "Senior Siri Development Operations Engineer - 42148024\n",
      "Software Test Engineer/SDET - Maps Tiles - 44823206\n",
      "Software Engineer\n",
      " Principal Engineer / Architect - San Francisco \n",
      "Front End Engineer - Maps - 43288758\n",
      "Sr Backend Engineer\n"
     ]
    }
   ],
   "source": [
    "for job in jobs:\n",
    "    if \"Java\" in job['description']:\n",
    "        print(job['title'])"
   ]
  },
  {
   "cell_type": "code",
   "execution_count": null,
   "metadata": {
    "collapsed": true
   },
   "outputs": [],
   "source": []
  }
 ],
 "metadata": {
  "kernelspec": {
   "display_name": "Python 3",
   "language": "python",
   "name": "python3"
  },
  "language_info": {
   "codemirror_mode": {
    "name": "ipython",
    "version": 3
   },
   "file_extension": ".py",
   "mimetype": "text/x-python",
   "name": "python",
   "nbconvert_exporter": "python",
   "pygments_lexer": "ipython3",
   "version": "3.4.3"
  }
 },
 "nbformat": 4,
 "nbformat_minor": 0
}
