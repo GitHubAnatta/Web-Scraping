{
 "cells": [
  {
   "cell_type": "markdown",
   "metadata": {},
   "source": [
    "We will be using regular experessions.\n",
    "\n",
    "This is a good link, but uses Python 2: http://www.thegeekstuff.com/2014/07/python-regex-examples/"
   ]
  },
  {
   "cell_type": "code",
   "execution_count": 17,
   "metadata": {
    "collapsed": true
   },
   "outputs": [],
   "source": [
    "import requests\n",
    "from bs4 import BeautifulSoup\n",
    "import re"
   ]
  },
  {
   "cell_type": "code",
   "execution_count": 18,
   "metadata": {
    "collapsed": true
   },
   "outputs": [],
   "source": [
    "r = requests.get(\"http://pythonforengineers.com/dummy-sales-page/\")\n",
    "soup = BeautifulSoup(r.text, \"lxml\")"
   ]
  },
  {
   "cell_type": "code",
   "execution_count": 36,
   "metadata": {
    "collapsed": false
   },
   "outputs": [
    {
     "name": "stdout",
     "output_type": "stream",
     "text": [
      "[[('Item A:', '$99')], [('Item B:', '$29')], [('Item 3:', '$299')]]\n",
      "[('Item A:', '$99')]\n"
     ]
    }
   ],
   "source": [
    "price_list = []\n",
    "for elem in soup.find_all('p'):\n",
    "    search = re.findall(\"Price for ([\\w :]*) ([\\w$]*)\", elem.text)\n",
    "    if search:\n",
    "        #print(search)\n",
    "        price_list.append(search)\n",
    "print(price_list)\n",
    "print(price_list[0])"
   ]
  }
 ],
 "metadata": {
  "kernelspec": {
   "display_name": "Python 3",
   "language": "python",
   "name": "python3"
  },
  "language_info": {
   "codemirror_mode": {
    "name": "ipython",
    "version": 3
   },
   "file_extension": ".py",
   "mimetype": "text/x-python",
   "name": "python",
   "nbconvert_exporter": "python",
   "pygments_lexer": "ipython3",
   "version": "3.4.3"
  }
 },
 "nbformat": 4,
 "nbformat_minor": 0
}
