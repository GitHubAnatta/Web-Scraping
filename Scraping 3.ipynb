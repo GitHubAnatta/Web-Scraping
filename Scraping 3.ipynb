{
 "cells": [
  {
   "cell_type": "code",
   "execution_count": 20,
   "metadata": {
    "collapsed": true
   },
   "outputs": [],
   "source": [
    "import requests\n",
    "from bs4 import BeautifulSoup\n",
    "import os"
   ]
  },
  {
   "cell_type": "code",
   "execution_count": 2,
   "metadata": {
    "collapsed": true
   },
   "outputs": [],
   "source": [
    "r = requests.get(\"http://pythonforengineers.com/pythonforengineersbook/\")\n",
    "data = r.text\n",
    "soup = BeautifulSoup(data, \"lxml\")"
   ]
  },
  {
   "cell_type": "code",
   "execution_count": 29,
   "metadata": {
    "collapsed": false
   },
   "outputs": [
    {
     "name": "stdout",
     "output_type": "stream",
     "text": [
      "//i2.wp.com/pythonforengineers.com/wp-content/uploads/2014/07/Python_for_Scientists-small.jpg?resize=200%2C300\n",
      "http://i2.wp.com/pythonforengineers.com/wp-content/uploads/2014/07/Python_for_Scientists-small.jpg?resize=200%2C300\n",
      "http://i2.wp.com/pythonforengineers.com/wp-content/uploads/2014/07/Python_for_Scientists-small.jpg Python_for_Scientists-small.jpg\n",
      "//i0.wp.com/pythonforengineers.com/wp-content/uploads/2014/07/abba_face_detected.jpg?resize=345%2C319\n",
      "http://i0.wp.com/pythonforengineers.com/wp-content/uploads/2014/07/abba_face_detected.jpg?resize=345%2C319\n",
      "http://i0.wp.com/pythonforengineers.com/wp-content/uploads/2014/07/abba_face_detected.jpg abba_face_detected.jpg\n",
      "//i0.wp.com/pythonforengineers.com/wp-content/uploads/2014/07/motion2.jpg?resize=150%2C150\n",
      "http://i0.wp.com/pythonforengineers.com/wp-content/uploads/2014/07/motion2.jpg?resize=150%2C150\n",
      "http://i0.wp.com/pythonforengineers.com/wp-content/uploads/2014/07/motion2.jpg motion2.jpg\n",
      "//i2.wp.com/pythonforengineers.com/wp-content/uploads/2014/07/noisy4.png?resize=545%2C407\n",
      "http://i2.wp.com/pythonforengineers.com/wp-content/uploads/2014/07/noisy4.png?resize=545%2C407\n",
      "http://i2.wp.com/pythonforengineers.com/wp-content/uploads/2014/07/noisy4.png noisy4.png\n",
      "//i1.wp.com/pythonforengineers.com/wp-content/uploads/2014/07/audacity3.jpg?resize=715%2C299\n",
      "http://i1.wp.com/pythonforengineers.com/wp-content/uploads/2014/07/audacity3.jpg?resize=715%2C299\n",
      "http://i1.wp.com/pythonforengineers.com/wp-content/uploads/2014/07/audacity3.jpg audacity3.jpg\n",
      "//i0.wp.com/pythonforengineers.com/wp-content/uploads/2014/07/Marvin_HHGG.jpg?resize=184%2C302\n",
      "http://i0.wp.com/pythonforengineers.com/wp-content/uploads/2014/07/Marvin_HHGG.jpg?resize=184%2C302\n",
      "http://i0.wp.com/pythonforengineers.com/wp-content/uploads/2014/07/Marvin_HHGG.jpg Marvin_HHGG.jpg\n",
      "//i0.wp.com/pythonforengineers.com/wp-content/uploads/2014/07/300px-RaspberryPi.jpg?resize=300%2C200\n",
      "http://i0.wp.com/pythonforengineers.com/wp-content/uploads/2014/07/300px-RaspberryPi.jpg?resize=300%2C200\n",
      "http://i0.wp.com/pythonforengineers.com/wp-content/uploads/2014/07/300px-RaspberryPi.jpg 300px-RaspberryPi.jpg\n",
      "//i2.wp.com/pythonforengineers.com/wp-content/uploads/2014/07/rpi.jpg?resize=635%2C443\n",
      "http://i2.wp.com/pythonforengineers.com/wp-content/uploads/2014/07/rpi.jpg?resize=635%2C443\n",
      "http://i2.wp.com/pythonforengineers.com/wp-content/uploads/2014/07/rpi.jpg rpi.jpg\n"
     ]
    }
   ],
   "source": [
    "for link in soup.find_all('img'):\n",
    "    #print(link.get(\"src\"))\n",
    "    image = link.get(\"src\")\n",
    "    print(image)\n",
    "    image = \"http:\" + image\n",
    "    print(image)\n",
    "    \n",
    "    \n",
    "    question_mark = image.find(\"?\")\n",
    "    image = image[:question_mark]\n",
    "    image_name = os.path.split(image)[1]\n",
    "    print(image, image_name)\n",
    "    \n",
    "    r2 = requests.get(image)\n",
    "    with open(image_name, \"wb\") as f:\n",
    "        f.write(r2.content)\n",
    "\n"
   ]
  },
  {
   "cell_type": "code",
   "execution_count": 21,
   "metadata": {
    "collapsed": false
   },
   "outputs": [
    {
     "data": {
      "text/plain": [
       "'http://i2.wp.com/pythonforengineers.com/wp-content/uploads/2014/07/rpi.jpg'"
      ]
     },
     "execution_count": 21,
     "metadata": {},
     "output_type": "execute_result"
    }
   ],
   "source": []
  },
  {
   "cell_type": "code",
   "execution_count": 22,
   "metadata": {
    "collapsed": false
   },
   "outputs": [
    {
     "data": {
      "text/plain": [
       "'http://i2.wp.com/pythonforengineers.com/wp-content/uploads/2014/07/rpi.jpg'"
      ]
     },
     "execution_count": 22,
     "metadata": {},
     "output_type": "execute_result"
    }
   ],
   "source": [
    "# Playing around\n",
    "image"
   ]
  },
  {
   "cell_type": "code",
   "execution_count": 24,
   "metadata": {
    "collapsed": false
   },
   "outputs": [
    {
     "data": {
      "text/plain": [
       "('http://i2.wp.com/pythonforengineers.com/wp-content/uploads/2014/07',\n",
       " 'rpi.jpg')"
      ]
     },
     "execution_count": 24,
     "metadata": {},
     "output_type": "execute_result"
    }
   ],
   "source": [
    "os.path.split(image)"
   ]
  },
  {
   "cell_type": "code",
   "execution_count": 25,
   "metadata": {
    "collapsed": false
   },
   "outputs": [
    {
     "data": {
      "text/plain": [
       "'rpi.jpg'"
      ]
     },
     "execution_count": 25,
     "metadata": {},
     "output_type": "execute_result"
    }
   ],
   "source": [
    "os.path.split(image)[1]"
   ]
  },
  {
   "cell_type": "code",
   "execution_count": null,
   "metadata": {
    "collapsed": true
   },
   "outputs": [],
   "source": []
  }
 ],
 "metadata": {
  "kernelspec": {
   "display_name": "Python 3",
   "language": "python",
   "name": "python3"
  },
  "language_info": {
   "codemirror_mode": {
    "name": "ipython",
    "version": 3
   },
   "file_extension": ".py",
   "mimetype": "text/x-python",
   "name": "python",
   "nbconvert_exporter": "python",
   "pygments_lexer": "ipython3",
   "version": "3.4.3"
  }
 },
 "nbformat": 4,
 "nbformat_minor": 0
}
