{
 "cells": [
  {
   "cell_type": "code",
   "execution_count": 1,
   "metadata": {
    "collapsed": true
   },
   "outputs": [],
   "source": [
    "import requests\n",
    "from bs4 import BeautifulSoup"
   ]
  },
  {
   "cell_type": "code",
   "execution_count": 6,
   "metadata": {
    "collapsed": true
   },
   "outputs": [],
   "source": [
    "r = requests.get(\"http://pythonforengineers.com/pythonforengineersbook/\")\n"
   ]
  },
  {
   "cell_type": "code",
   "execution_count": 7,
   "metadata": {
    "collapsed": false
   },
   "outputs": [
    {
     "data": {
      "text/plain": [
       "200"
      ]
     },
     "execution_count": 7,
     "metadata": {},
     "output_type": "execute_result"
    }
   ],
   "source": [
    "r.status_code"
   ]
  },
  {
   "cell_type": "code",
   "execution_count": 11,
   "metadata": {
    "collapsed": false
   },
   "outputs": [],
   "source": [
    "data = r.text\n",
    "soup = BeautifulSoup(data, \"lxml\")"
   ]
  },
  {
   "cell_type": "code",
   "execution_count": 15,
   "metadata": {
    "collapsed": false
   },
   "outputs": [
    {
     "data": {
      "text/plain": [
       "<title>Python for Engineers Book - Python For Engineers</title>"
      ]
     },
     "execution_count": 15,
     "metadata": {},
     "output_type": "execute_result"
    }
   ],
   "source": [
    "soup.title"
   ]
  },
  {
   "cell_type": "code",
   "execution_count": null,
   "metadata": {
    "collapsed": false
   },
   "outputs": [],
   "source": [
    "soup.find_all('p')"
   ]
  },
  {
   "cell_type": "code",
   "execution_count": 18,
   "metadata": {
    "collapsed": false
   },
   "outputs": [
    {
     "name": "stdout",
     "output_type": "stream",
     "text": [
      " \n",
      "\n",
      " \n",
      "The Python for Scientists and Engineers course,  based on my highly successful Kickstarter, seeks to teach you advanced Python by building awesome projects.\n",
      "Practice, not theory\n",
      "The course will be heavily practical, with little or no theory. The goal is to get you using Python for real world engineering applications. For each topic, we will choose a real case scenario and build a quick solution in Python to solve our problem.\n",
      "These are the topics we will cover:\n",
      "Introduction to Python\n",
      "I will cover the basics of the Python, specifically for the programmers wanting to use Python for engineering.This will be a quick introduction to Python for people who know at least one other programming language.\n",
      "Image and Video processing\n",
      "\n",
      "\n",
      " \n",
      "Audio\n",
      "Create a sine wave, find its frequency, simple filtering\n",
      "\n",
      "Analysis and plotting with Numpy, Scipy and Matplotlib\n",
      "Learn how to work with and graph scientific data\n",
      " \n",
      "\n",
      " \n",
      "Machine Learning\n",
      "Build an Amazon like recommendation engine in Python.\n",
      "\n",
      " \n",
      "Statistics and data manipulation\n",
      "The Python pandas library is Python’s answer to R, and used extensively in financial analysis.\n",
      " \n",
      "Turn your Raspberry Pi into a web server\n",
      "\n",
      "\n",
      "Learn how to control your Pi via a web browser, using your laptop or even iPad:\n",
      "\n",
      "Buy now:\n",
      "Available on LeanPub.\n",
      " \n",
      "· © 2016 Python For Engineers · Designed by Press Customizr · Powered by  ·\n"
     ]
    }
   ],
   "source": [
    "for p_elem in soup.find_all('p'):\n",
    "    print(p_elem.get_text())"
   ]
  },
  {
   "cell_type": "code",
   "execution_count": 21,
   "metadata": {
    "collapsed": false
   },
   "outputs": [
    {
     "name": "stdout",
     "output_type": "stream",
     "text": [
      "http://pythonforengineers.com/\n",
      "http://pythonforengineers.com/\n",
      "http://pythonforengineers.com/data-science-lessons/\n",
      "http://pythonforengineers.com/articles/\n",
      "http://pythonforengineers.com/pythonforengineersbook/\n",
      "http://pythonforengineers.com/python-for-hackers/\n",
      "http://pythonforengineers.com/about/\n",
      "http://pythonforengineers.com/contact/\n",
      "http://pythonforengineers.com\n",
      "http://i2.wp.com/pythonforengineers.com/wp-content/uploads/2014/07/Python_for_Scientists-small.jpg\n",
      "https://www.kickstarter.com/projects/513736598/python-for-science-and-engineering\n",
      "http://i0.wp.com/pythonforengineers.com/wp-content/uploads/2014/07/abba_face_detected.jpg\n",
      "http://i0.wp.com/pythonforengineers.com/wp-content/uploads/2014/07/motion2.jpg\n",
      "http://i2.wp.com/pythonforengineers.com/wp-content/uploads/2014/07/noisy4.png\n",
      "http://i0.wp.com/pythonforengineers.com/wp-content/uploads/2014/07/Marvin_HHGG.jpg\n",
      "http://i0.wp.com/pythonforengineers.com/wp-content/uploads/2014/07/300px-RaspberryPi.jpg\n",
      "http://i2.wp.com/pythonforengineers.com/wp-content/uploads/2014/07/rpi.jpg\n",
      "https://leanpub.com/pythonforengineers\n",
      "/pythonforengineersbook/#respond\n",
      "http://pythonforengineers.com\n",
      "http://presscustomizr.com/\n",
      "https://wordpress.org\n"
     ]
    }
   ],
   "source": [
    "for p_elem in soup.find_all('a'):\n",
    "    print(p_elem.get('href'))"
   ]
  },
  {
   "cell_type": "code",
   "execution_count": null,
   "metadata": {
    "collapsed": true
   },
   "outputs": [],
   "source": []
  }
 ],
 "metadata": {
  "kernelspec": {
   "display_name": "Python 3",
   "language": "python",
   "name": "python3"
  },
  "language_info": {
   "codemirror_mode": {
    "name": "ipython",
    "version": 3
   },
   "file_extension": ".py",
   "mimetype": "text/x-python",
   "name": "python",
   "nbconvert_exporter": "python",
   "pygments_lexer": "ipython3",
   "version": "3.4.3"
  }
 },
 "nbformat": 4,
 "nbformat_minor": 0
}
